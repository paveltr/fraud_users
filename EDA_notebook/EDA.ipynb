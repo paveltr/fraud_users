{
 "cells": [
  {
   "cell_type": "code",
   "execution_count": 1,
   "metadata": {},
   "outputs": [],
   "source": [
    "import pandas as pd\n",
    "pd.options.display.float_format = '{:,.2f}'.format\n",
    "\n",
    "from libs.useful_functions import clean_text\n",
    "import seaborn as sns\n",
    "sns.set(rc={'figure.figsize':(11.7,8.27)})\n",
    "sns.set_style(\"whitegrid\", {'axes.grid' : False})\n",
    "import numpy as np\n",
    "\n",
    "import matplotlib.pyplot as plt\n",
    "import matplotlib\n",
    "import warnings\n",
    "warnings.filterwarnings('ignore')\n",
    "\n",
    "matplotlib.rcParams['axes.facecolor'] = '#53868B'\n",
    "matplotlib.rcParams['lines.linewidth'] = 3\n",
    "plt.style.use('seaborn-colorblind')\n",
    "plt.rcParams['axes.prop_cycle'] = plt.cycler(color=plt.cm.Set3.colors)\n",
    "plt.rcParams['figure.figsize'] = (10.0, 8.0)\n",
    "plt.rcParams['font.size'] = 16"
   ]
  },
  {
   "cell_type": "code",
   "execution_count": null,
   "metadata": {},
   "outputs": [],
   "source": []
  },
  {
   "cell_type": "code",
   "execution_count": 2,
   "metadata": {},
   "outputs": [],
   "source": [
    "path = r'D:/Projects/data/'"
   ]
  },
  {
   "cell_type": "code",
   "execution_count": null,
   "metadata": {},
   "outputs": [],
   "source": []
  },
  {
   "cell_type": "markdown",
   "metadata": {},
   "source": [
    "# Users"
   ]
  },
  {
   "cell_type": "code",
   "execution_count": 3,
   "metadata": {},
   "outputs": [
    {
     "data": {
      "text/html": [
       "<div>\n",
       "<style scoped>\n",
       "    .dataframe tbody tr th:only-of-type {\n",
       "        vertical-align: middle;\n",
       "    }\n",
       "\n",
       "    .dataframe tbody tr th {\n",
       "        vertical-align: top;\n",
       "    }\n",
       "\n",
       "    .dataframe thead th {\n",
       "        text-align: right;\n",
       "    }\n",
       "</style>\n",
       "<table border=\"1\" class=\"dataframe\">\n",
       "  <thead>\n",
       "    <tr style=\"text-align: right;\">\n",
       "      <th></th>\n",
       "      <th>access</th>\n",
       "      <th>birth_year</th>\n",
       "      <th>country</th>\n",
       "      <th>gender</th>\n",
       "      <th>user_id</th>\n",
       "    </tr>\n",
       "  </thead>\n",
       "  <tbody>\n",
       "    <tr>\n",
       "      <th>0</th>\n",
       "      <td>{\"access\":\"free\"</td>\n",
       "      <td>birth_year:\"1989\"</td>\n",
       "      <td>country:8</td>\n",
       "      <td>gender:\"female\"</td>\n",
       "      <td>093449f2282b4e4793948bbc3e9f1fd7278c0c49</td>\n",
       "    </tr>\n",
       "    <tr>\n",
       "      <th>1</th>\n",
       "      <td>{\"access\":\"premium\"</td>\n",
       "      <td>birth_year:\"2001\"</td>\n",
       "      <td>country:4</td>\n",
       "      <td>gender:\"female\"</td>\n",
       "      <td>3e9603e5ab69c5cfe14dcc1954c46cd849940b24</td>\n",
       "    </tr>\n",
       "    <tr>\n",
       "      <th>2</th>\n",
       "      <td>{\"access\":\"premium\"</td>\n",
       "      <td>birth_year:\"1988\"</td>\n",
       "      <td>country:52</td>\n",
       "      <td>gender:\"female\"</td>\n",
       "      <td>c12f6f2784787619d91f61cf215480b70d47f36e</td>\n",
       "    </tr>\n",
       "    <tr>\n",
       "      <th>3</th>\n",
       "      <td>{\"access\":\"premium\"</td>\n",
       "      <td>birth_year:\"1995\"</td>\n",
       "      <td>country:16</td>\n",
       "      <td>gender:\"female\"</td>\n",
       "      <td>d55e6dc8e7fdd87d42b639ed27ca95795738308b</td>\n",
       "    </tr>\n",
       "    <tr>\n",
       "      <th>4</th>\n",
       "      <td>{\"access\":\"premium\"</td>\n",
       "      <td>birth_year:\"1996\"</td>\n",
       "      <td>country:44</td>\n",
       "      <td>gender:\"female\"</td>\n",
       "      <td>6b1867e55d95cd39f0b3eac38518fd11572e732f</td>\n",
       "    </tr>\n",
       "  </tbody>\n",
       "</table>\n",
       "</div>"
      ],
      "text/plain": [
       "                access         birth_year     country           gender  \\\n",
       "0     {\"access\":\"free\"  birth_year:\"1989\"   country:8  gender:\"female\"   \n",
       "1  {\"access\":\"premium\"  birth_year:\"2001\"   country:4  gender:\"female\"   \n",
       "2  {\"access\":\"premium\"  birth_year:\"1988\"  country:52  gender:\"female\"   \n",
       "3  {\"access\":\"premium\"  birth_year:\"1995\"  country:16  gender:\"female\"   \n",
       "4  {\"access\":\"premium\"  birth_year:\"1996\"  country:44  gender:\"female\"   \n",
       "\n",
       "                                    user_id  \n",
       "0  093449f2282b4e4793948bbc3e9f1fd7278c0c49  \n",
       "1  3e9603e5ab69c5cfe14dcc1954c46cd849940b24  \n",
       "2  c12f6f2784787619d91f61cf215480b70d47f36e  \n",
       "3  d55e6dc8e7fdd87d42b639ed27ca95795738308b  \n",
       "4  6b1867e55d95cd39f0b3eac38518fd11572e732f  "
      ]
     },
     "execution_count": 3,
     "metadata": {},
     "output_type": "execute_result"
    }
   ],
   "source": [
    "users = pd.read_csv(path + 'users', compression = 'gzip', header = None)\n",
    "users.columns = ['access', 'birth_year', 'country', 'gender', 'user_id']\n",
    "users['user_id'] = users['user_id'].map(lambda x: x.split(':')[1].replace(\"{\", \"\").replace(\"}\", \"\").strip('\"'))\n",
    "users.head()"
   ]
  },
  {
   "cell_type": "code",
   "execution_count": 4,
   "metadata": {},
   "outputs": [
    {
     "data": {
      "text/plain": [
       "(1787756, 5)"
      ]
     },
     "execution_count": 4,
     "metadata": {},
     "output_type": "execute_result"
    }
   ],
   "source": [
    "users.shape"
   ]
  },
  {
   "cell_type": "code",
   "execution_count": 5,
   "metadata": {},
   "outputs": [
    {
     "data": {
      "text/plain": [
       "True"
      ]
     },
     "execution_count": 5,
     "metadata": {},
     "output_type": "execute_result"
    }
   ],
   "source": [
    "users.shape[0] == users['user_id'].nunique()"
   ]
  },
  {
   "cell_type": "code",
   "execution_count": 6,
   "metadata": {},
   "outputs": [
    {
     "data": {
      "text/plain": [
       "access              3\n",
       "birth_year        146\n",
       "country            61\n",
       "gender              3\n",
       "user_id       1787756\n",
       "dtype: int64"
      ]
     },
     "execution_count": 6,
     "metadata": {},
     "output_type": "execute_result"
    }
   ],
   "source": [
    "users.nunique()"
   ]
  },
  {
   "cell_type": "markdown",
   "metadata": {},
   "source": [
    "### Access"
   ]
  },
  {
   "cell_type": "code",
   "execution_count": 7,
   "metadata": {},
   "outputs": [
    {
     "data": {
      "image/png": "[encoded data removed]",
      "text/plain": [
       "<Figure size 432x288 with 1 Axes>"
      ]
     },
     "metadata": {},
     "output_type": "display_data"
    }
   ],
   "source": [
    "plt.title('Access type distribution')\n",
    "(users['access'].value_counts() / users.shape[0]).plot(kind = 'bar')\n",
    "plt.xticks(rotation = 0)\n",
    "plt.show()"
   ]
  },
  {
   "cell_type": "markdown",
   "metadata": {},
   "source": [
    "### Gender"
   ]
  },
  {
   "cell_type": "code",
   "execution_count": 8,
   "metadata": {},
   "outputs": [
    {
     "data": {
      "image/png": "[encoded data removed]",
      "text/plain": [
       "<Figure size 432x288 with 1 Axes>"
      ]
     },
     "metadata": {},
     "output_type": "display_data"
    }
   ],
   "source": [
    "plt.title('Gender distribution')\n",
    "(users['gender'].value_counts() / users.shape[0]).plot(kind = 'bar')\n",
    "plt.xticks(rotation = 0)\n",
    "plt.show()"
   ]
  },
  {
   "cell_type": "markdown",
   "metadata": {},
   "source": [
    "### Country"
   ]
  },
  {
   "cell_type": "code",
   "execution_count": 9,
   "metadata": {},
   "outputs": [
    {
     "data": {
      "image/png": "[encoded data removed]",
      "text/plain": [
       "<Figure size 1440x720 with 1 Axes>"
      ]
     },
     "metadata": {},
     "output_type": "display_data"
    }
   ],
   "source": [
    "plt.title('Country distribution')\n",
    "(users['country'].value_counts() / users.shape[0]).plot(kind = 'bar', figsize  = (20, 10))\n",
    "plt.xticks(rotation = 90)\n",
    "plt.show()"
   ]
  },
  {
   "cell_type": "code",
   "execution_count": 10,
   "metadata": {},
   "outputs": [
    {
     "data": {
      "text/plain": [
       "(0.505024734919083, ['country:59', 'country:52', 'country:44', 'country:15'])"
      ]
     },
     "execution_count": 10,
     "metadata": {},
     "output_type": "execute_result"
    }
   ],
   "source": [
    "users[users['country'].isin(users['country'].value_counts().index[:4])].shape[0] / users.shape[0], \\\n",
    "users['country'].value_counts().index[:4].tolist()"
   ]
  },
  {
   "cell_type": "code",
   "execution_count": 11,
   "metadata": {},
   "outputs": [],
   "source": [
    "top_countries = users['country'].value_counts().index[:4].tolist()"
   ]
  },
  {
   "cell_type": "markdown",
   "metadata": {},
   "source": [
    "### Age"
   ]
  },
  {
   "cell_type": "code",
   "execution_count": 12,
   "metadata": {},
   "outputs": [],
   "source": [
    "users['birth_year'] = users['birth_year'].map(lambda x: clean_text(x , 'numbers')).replace('', '2000').astype(int)"
   ]
  },
  {
   "cell_type": "code",
   "execution_count": 13,
   "metadata": {},
   "outputs": [],
   "source": [
    "users['age'] = 2018 - users['birth_year']"
   ]
  },
  {
   "cell_type": "code",
   "execution_count": 14,
   "metadata": {},
   "outputs": [
    {
     "data": {
      "image/png": "[encoded data removed]",
      "text/plain": [
       "<Figure size 432x288 with 1 Axes>"
      ]
     },
     "metadata": {},
     "output_type": "display_data"
    }
   ],
   "source": [
    "plt.title('Distribution of customer age')\n",
    "ax = users['age'].hist(bins = 100)\n",
    "ax.set_xlim(14, 80)\n",
    "plt.show()"
   ]
  },
  {
   "cell_type": "markdown",
   "metadata": {},
   "source": [
    "### Age and gender"
   ]
  },
  {
   "cell_type": "code",
   "execution_count": 15,
   "metadata": {},
   "outputs": [
    {
     "data": {
      "image/png": "[encoded data removed]",
      "text/plain": [
       "<Figure size 864x432 with 1 Axes>"
      ]
     },
     "metadata": {},
     "output_type": "display_data"
    }
   ],
   "source": [
    "x_name = 'gender'\n",
    "y_name = 'age'\n",
    "col_order = np.sort(users[x_name].unique()).tolist()\n",
    "plt.figure(figsize=(12,6))\n",
    "sns.boxplot(x=x_name, y=y_name, data=users, order=col_order)\n",
    "plt.xlabel(x_name, fontsize=12)\n",
    "plt.ylabel(y_name, fontsize=12)\n",
    "plt.title(\"Distribution of %s variable with %s\" % (y_name, x_name), fontsize=15)\n",
    "plt.show()"
   ]
  },
  {
   "cell_type": "markdown",
   "metadata": {},
   "source": [
    "### Age and access type"
   ]
  },
  {
   "cell_type": "code",
   "execution_count": 16,
   "metadata": {},
   "outputs": [
    {
     "data": {
      "image/png": "[encoded data removed]",
      "text/plain": [
       "<Figure size 864x432 with 1 Axes>"
      ]
     },
     "metadata": {},
     "output_type": "display_data"
    }
   ],
   "source": [
    "x_name = 'access'\n",
    "y_name = 'age'\n",
    "col_order = np.sort(users[x_name].unique()).tolist()\n",
    "plt.figure(figsize=(12,6))\n",
    "sns.boxplot(x=x_name, y=y_name, data=users, order=col_order)\n",
    "plt.xlabel(x_name, fontsize=12)\n",
    "plt.ylabel(y_name, fontsize=12)\n",
    "plt.title(\"Distribution of %s variable with %s\" % (y_name, x_name), fontsize=15)\n",
    "plt.show()"
   ]
  },
  {
   "cell_type": "markdown",
   "metadata": {},
   "source": [
    "### Age and country"
   ]
  },
  {
   "cell_type": "code",
   "execution_count": 17,
   "metadata": {},
   "outputs": [
    {
     "data": {
      "image/png": "[encoded data removed]",
      "text/plain": [
       "<Figure size 864x432 with 1 Axes>"
      ]
     },
     "metadata": {},
     "output_type": "display_data"
    }
   ],
   "source": [
    "x_name = 'country'\n",
    "y_name = 'age'\n",
    "col_order = np.sort(top_countries).tolist()\n",
    "plt.figure(figsize=(12,6))\n",
    "sns.boxplot(x=x_name, y=y_name, data=users[users['country'].isin(top_countries)], order=col_order)\n",
    "plt.xlabel(x_name, fontsize=12)\n",
    "plt.ylabel(y_name, fontsize=12)\n",
    "plt.title(\"Distribution of %s variable with %s\" % (y_name, x_name), fontsize=15)\n",
    "plt.show()"
   ]
  },
  {
   "cell_type": "markdown",
   "metadata": {},
   "source": [
    "# Tracks"
   ]
  },
  {
   "cell_type": "code",
   "execution_count": 18,
   "metadata": {},
   "outputs": [],
   "source": [
    "import gzip\n",
    "import json\n",
    "\n",
    "tracks=gzip.open(path + 'tracks','rb')\n",
    "tracks=tracks.read().decode().split('\\n')\n",
    "\n",
    "strings = []\n",
    "\n",
    "counter = 0\n",
    "for track in tracks:    \n",
    "    line = json.loads(track)\n",
    "    _ = []\n",
    "    for key, value in line.items():\n",
    "        _.append(key  + ' : ' + value)\n",
    "    strings.append(_)\n",
    "\n",
    "tracks = pd.DataFrame(strings)"
   ]
  },
  {
   "cell_type": "code",
   "execution_count": 19,
   "metadata": {},
   "outputs": [
    {
     "data": {
      "text/html": [
       "<div>\n",
       "<style scoped>\n",
       "    .dataframe tbody tr th:only-of-type {\n",
       "        vertical-align: middle;\n",
       "    }\n",
       "\n",
       "    .dataframe tbody tr th {\n",
       "        vertical-align: top;\n",
       "    }\n",
       "\n",
       "    .dataframe thead th {\n",
       "        text-align: right;\n",
       "    }\n",
       "</style>\n",
       "<table border=\"1\" class=\"dataframe\">\n",
       "  <thead>\n",
       "    <tr style=\"text-align: right;\">\n",
       "      <th></th>\n",
       "      <th>album_artist</th>\n",
       "      <th>album_code</th>\n",
       "      <th>album_name</th>\n",
       "      <th>track_id</th>\n",
       "      <th>track_name</th>\n",
       "    </tr>\n",
       "  </thead>\n",
       "  <tbody>\n",
       "    <tr>\n",
       "      <th>0</th>\n",
       "      <td>album_artist : Tasia Rojas</td>\n",
       "      <td>album_code : ece406c1937c4123e6b935f39898770dc...</td>\n",
       "      <td>album_name : Salmon Addition</td>\n",
       "      <td>fe2f34b55827b9721aa503d1dc9f3bca951859de</td>\n",
       "      <td>track_name : Doubtful Anteater</td>\n",
       "    </tr>\n",
       "    <tr>\n",
       "      <th>1</th>\n",
       "      <td>album_artist : Gertrude Faulkner</td>\n",
       "      <td>album_code : bb94c41eade59eeec79b04aa141c99344...</td>\n",
       "      <td>album_name : Newfoundland Quilt</td>\n",
       "      <td>2432c3346fc867e9026174ea73ab787a7fdeaa1f</td>\n",
       "      <td>track_name : Heartbreaking Louse</td>\n",
       "    </tr>\n",
       "    <tr>\n",
       "      <th>2</th>\n",
       "      <td>album_artist : Ora Corcoran</td>\n",
       "      <td>album_code : 0db473f623b01b0134f8178512f91e5ac...</td>\n",
       "      <td>album_name : Havanese Push</td>\n",
       "      <td>cb5e2409dfa5c9c8ccabdca2afeb6e84eca9a435</td>\n",
       "      <td>track_name : Watery Tortoise</td>\n",
       "    </tr>\n",
       "    <tr>\n",
       "      <th>3</th>\n",
       "      <td>album_artist : Shanika Wing</td>\n",
       "      <td>album_code : 4aadb443b1d8cc4c84a6ca1dd348c5993...</td>\n",
       "      <td>album_name : Puma Hate</td>\n",
       "      <td>2998e8ecabbf9d220dc22c516740f7982b2353e8</td>\n",
       "      <td>track_name : Nutritious Ox</td>\n",
       "    </tr>\n",
       "    <tr>\n",
       "      <th>4</th>\n",
       "      <td>album_artist : Lonnie Hope</td>\n",
       "      <td>album_code : a2b64056f39d60b0de18550d43a37b64b...</td>\n",
       "      <td>album_name : Kingfisher Garden</td>\n",
       "      <td>fb581ad122d260941757c5a2b1ed1a42108d632f</td>\n",
       "      <td>track_name : Foregoing Umbrellabird</td>\n",
       "    </tr>\n",
       "  </tbody>\n",
       "</table>\n",
       "</div>"
      ],
      "text/plain": [
       "                       album_artist  \\\n",
       "0        album_artist : Tasia Rojas   \n",
       "1  album_artist : Gertrude Faulkner   \n",
       "2       album_artist : Ora Corcoran   \n",
       "3       album_artist : Shanika Wing   \n",
       "4        album_artist : Lonnie Hope   \n",
       "\n",
       "                                          album_code  \\\n",
       "0  album_code : ece406c1937c4123e6b935f39898770dc...   \n",
       "1  album_code : bb94c41eade59eeec79b04aa141c99344...   \n",
       "2  album_code : 0db473f623b01b0134f8178512f91e5ac...   \n",
       "3  album_code : 4aadb443b1d8cc4c84a6ca1dd348c5993...   \n",
       "4  album_code : a2b64056f39d60b0de18550d43a37b64b...   \n",
       "\n",
       "                        album_name                                   track_id  \\\n",
       "0     album_name : Salmon Addition   fe2f34b55827b9721aa503d1dc9f3bca951859de   \n",
       "1  album_name : Newfoundland Quilt   2432c3346fc867e9026174ea73ab787a7fdeaa1f   \n",
       "2       album_name : Havanese Push   cb5e2409dfa5c9c8ccabdca2afeb6e84eca9a435   \n",
       "3           album_name : Puma Hate   2998e8ecabbf9d220dc22c516740f7982b2353e8   \n",
       "4   album_name : Kingfisher Garden   fb581ad122d260941757c5a2b1ed1a42108d632f   \n",
       "\n",
       "                            track_name  \n",
       "0       track_name : Doubtful Anteater  \n",
       "1     track_name : Heartbreaking Louse  \n",
       "2         track_name : Watery Tortoise  \n",
       "3           track_name : Nutritious Ox  \n",
       "4  track_name : Foregoing Umbrellabird  "
      ]
     },
     "execution_count": 19,
     "metadata": {},
     "output_type": "execute_result"
    }
   ],
   "source": [
    "# tracks = pd.read_csv(path + 'tracks', compression = 'gzip', quotechar = '\"',\n",
    "#                      header = None, error_bad_lines=False)\n",
    "tracks.columns = ['album_artist', 'album_code', 'album_name', 'track_id', 'track_name']\n",
    "tracks['track_id'] = tracks['track_id'].map(lambda x: x.split(':')[1].replace(\"{\", \"\").replace(\"}\", \"\").strip('\"'))\n",
    "tracks.head()"
   ]
  },
  {
   "cell_type": "code",
   "execution_count": 20,
   "metadata": {},
   "outputs": [
    {
     "data": {
      "text/plain": [
       "(83426, 5)"
      ]
     },
     "execution_count": 20,
     "metadata": {},
     "output_type": "execute_result"
    }
   ],
   "source": [
    "tracks.shape"
   ]
  },
  {
   "cell_type": "code",
   "execution_count": 21,
   "metadata": {},
   "outputs": [
    {
     "data": {
      "text/plain": [
       "True"
      ]
     },
     "execution_count": 21,
     "metadata": {},
     "output_type": "execute_result"
    }
   ],
   "source": [
    "tracks.shape[0] == tracks['track_id'].nunique()"
   ]
  },
  {
   "cell_type": "code",
   "execution_count": 22,
   "metadata": {},
   "outputs": [
    {
     "data": {
      "text/plain": [
       "album_artist    16915\n",
       "album_code      24913\n",
       "album_name      23201\n",
       "track_id        83426\n",
       "track_name      70979\n",
       "dtype: int64"
      ]
     },
     "execution_count": 22,
     "metadata": {},
     "output_type": "execute_result"
    }
   ],
   "source": [
    "tracks.nunique()"
   ]
  },
  {
   "cell_type": "markdown",
   "metadata": {},
   "source": [
    "### Number of tracks per artist"
   ]
  },
  {
   "cell_type": "code",
   "execution_count": 23,
   "metadata": {},
   "outputs": [
    {
     "name": "stdout",
     "output_type": "stream",
     "text": [
      "Median value: 2.0\n"
     ]
    },
    {
     "data": {
      "image/png": "[encoded data removed]",
      "text/plain": [
       "<Figure size 432x288 with 1 Axes>"
      ]
     },
     "metadata": {},
     "output_type": "display_data"
    }
   ],
   "source": [
    "plt.title('Distribution of number of tracks per one artist')\n",
    "print(\"Median value: %s\" % tracks.groupby('album_artist')['track_id'].nunique().median())\n",
    "ax = sns.boxplot(x=tracks.groupby('album_artist')['track_id'].nunique())\n",
    "ax.set_xlim(0, 12)\n",
    "plt.show()"
   ]
  },
  {
   "cell_type": "markdown",
   "metadata": {},
   "source": [
    "### Number of albums per artist"
   ]
  },
  {
   "cell_type": "code",
   "execution_count": 24,
   "metadata": {},
   "outputs": [
    {
     "name": "stdout",
     "output_type": "stream",
     "text": [
      "Median value: 1.0\n"
     ]
    },
    {
     "data": {
      "image/png": "[encoded data removed]",
      "text/plain": [
       "<Figure size 432x288 with 1 Axes>"
      ]
     },
     "metadata": {},
     "output_type": "display_data"
    }
   ],
   "source": [
    "plt.title('Distribution of number of tracks per one artist')\n",
    "print(\"Median value: %s\" % tracks.groupby('album_artist')['album_name'].nunique().median())\n",
    "ax = sns.boxplot(x=tracks.groupby('album_artist')['album_name'].nunique())\n",
    "ax.set_xlim(0, 5)\n",
    "plt.show()"
   ]
  },
  {
   "cell_type": "markdown",
   "metadata": {},
   "source": [
    "### Number of tracks per album"
   ]
  },
  {
   "cell_type": "code",
   "execution_count": 25,
   "metadata": {},
   "outputs": [
    {
     "name": "stdout",
     "output_type": "stream",
     "text": [
      "Median value: 1.0\n"
     ]
    },
    {
     "data": {
      "image/png": "[encoded data removed]",
      "text/plain": [
       "<Figure size 432x288 with 1 Axes>"
      ]
     },
     "metadata": {},
     "output_type": "display_data"
    }
   ],
   "source": [
    "plt.title('Distribution of number of tracks per one album')\n",
    "print(\"Median value: %s\" % tracks.groupby('album_name')['track_id'].nunique().median())\n",
    "ax = sns.boxplot(x=tracks.groupby('album_name')['track_id'].nunique())\n",
    "ax.set_xlim(0, 10)\n",
    "plt.show()"
   ]
  },
  {
   "cell_type": "markdown",
   "metadata": {},
   "source": [
    "# Allcountries"
   ]
  },
  {
   "cell_type": "code",
   "execution_count": 26,
   "metadata": {},
   "outputs": [
    {
     "data": {
      "text/html": [
       "<div>\n",
       "<style scoped>\n",
       "    .dataframe tbody tr th:only-of-type {\n",
       "        vertical-align: middle;\n",
       "    }\n",
       "\n",
       "    .dataframe tbody tr th {\n",
       "        vertical-align: top;\n",
       "    }\n",
       "\n",
       "    .dataframe thead th {\n",
       "        text-align: right;\n",
       "    }\n",
       "</style>\n",
       "<table border=\"1\" class=\"dataframe\">\n",
       "  <thead>\n",
       "    <tr style=\"text-align: right;\">\n",
       "      <th></th>\n",
       "      <th>device_type</th>\n",
       "      <th>length</th>\n",
       "      <th>os</th>\n",
       "      <th>timestamp</th>\n",
       "      <th>track_id</th>\n",
       "      <th>user_id</th>\n",
       "    </tr>\n",
       "  </thead>\n",
       "  <tbody>\n",
       "    <tr>\n",
       "      <th>0</th>\n",
       "      <td>{\"device_type\":\"mobile\"</td>\n",
       "      <td>\"length\":136</td>\n",
       "      <td>\"os\":\"iOS\"</td>\n",
       "      <td>\"timestamp\":1504923300000</td>\n",
       "      <td>c43ac11b86c603e40aad9a0fbe72d192c0c51ded</td>\n",
       "      <td>3db57275059923d98119850a6233d3c609a171a5</td>\n",
       "    </tr>\n",
       "    <tr>\n",
       "      <th>1</th>\n",
       "      <td>{\"device_type\":\"desktop\"</td>\n",
       "      <td>\"length\":60</td>\n",
       "      <td>\"os\":\"Browser\"</td>\n",
       "      <td>\"timestamp\":1504951200000</td>\n",
       "      <td>eee087bddc7db49cde2d43df7a04f3975dff4a78</td>\n",
       "      <td>0495eb11e3ca80c0289d3a08b5c60f0227e12314</td>\n",
       "    </tr>\n",
       "    <tr>\n",
       "      <th>2</th>\n",
       "      <td>{\"device_type\":\"mobile\"</td>\n",
       "      <td>\"length\":191</td>\n",
       "      <td>\"os\":\"iOS\"</td>\n",
       "      <td>\"timestamp\":1504944900000</td>\n",
       "      <td>45e8fe7c02519b99b9284717cd3488eab2ef798e</td>\n",
       "      <td>b3d9fb538674878162e5a93566195daf878723db</td>\n",
       "    </tr>\n",
       "    <tr>\n",
       "      <th>3</th>\n",
       "      <td>{\"device_type\":\"desktop\"</td>\n",
       "      <td>\"length\":268</td>\n",
       "      <td>\"os\":\"other\"</td>\n",
       "      <td>\"timestamp\":1504980900000</td>\n",
       "      <td>eb1016ee12dc5a3ada044b7dacb716049ed121c8</td>\n",
       "      <td>4831658d8f436e8c6ecf29984c405521de26e654</td>\n",
       "    </tr>\n",
       "    <tr>\n",
       "      <th>4</th>\n",
       "      <td>{\"device_type\":\"mobile\"</td>\n",
       "      <td>\"length\":212</td>\n",
       "      <td>\"os\":\"Android\"</td>\n",
       "      <td>\"timestamp\":1504916100000</td>\n",
       "      <td>863af142e7604488cfd8f2245b65c9e6cafcd201</td>\n",
       "      <td>e1a1bb65848f54f266273caad9a327d13397889f</td>\n",
       "    </tr>\n",
       "  </tbody>\n",
       "</table>\n",
       "</div>"
      ],
      "text/plain": [
       "                device_type        length              os  \\\n",
       "0   {\"device_type\":\"mobile\"  \"length\":136      \"os\":\"iOS\"   \n",
       "1  {\"device_type\":\"desktop\"   \"length\":60  \"os\":\"Browser\"   \n",
       "2   {\"device_type\":\"mobile\"  \"length\":191      \"os\":\"iOS\"   \n",
       "3  {\"device_type\":\"desktop\"  \"length\":268    \"os\":\"other\"   \n",
       "4   {\"device_type\":\"mobile\"  \"length\":212  \"os\":\"Android\"   \n",
       "\n",
       "                   timestamp                                  track_id  \\\n",
       "0  \"timestamp\":1504923300000  c43ac11b86c603e40aad9a0fbe72d192c0c51ded   \n",
       "1  \"timestamp\":1504951200000  eee087bddc7db49cde2d43df7a04f3975dff4a78   \n",
       "2  \"timestamp\":1504944900000  45e8fe7c02519b99b9284717cd3488eab2ef798e   \n",
       "3  \"timestamp\":1504980900000  eb1016ee12dc5a3ada044b7dacb716049ed121c8   \n",
       "4  \"timestamp\":1504916100000  863af142e7604488cfd8f2245b65c9e6cafcd201   \n",
       "\n",
       "                                    user_id  \n",
       "0  3db57275059923d98119850a6233d3c609a171a5  \n",
       "1  0495eb11e3ca80c0289d3a08b5c60f0227e12314  \n",
       "2  b3d9fb538674878162e5a93566195daf878723db  \n",
       "3  4831658d8f436e8c6ecf29984c405521de26e654  \n",
       "4  e1a1bb65848f54f266273caad9a327d13397889f  "
      ]
     },
     "execution_count": 26,
     "metadata": {},
     "output_type": "execute_result"
    }
   ],
   "source": [
    "allcountries = pd.read_csv(path + 'allcountries', compression = 'gzip', header = None, engine = 'python', quotechar=\"'\", error_bad_lines=False)\n",
    "allcountries.columns = ['device_type', 'length', 'os', 'timestamp', 'track_id', 'user_id']\n",
    "allcountries['user_id'] = allcountries['user_id'].map(lambda x: x.split(':')[1].replace(\"{\", \"\").replace(\"}\", \"\").strip('\"'))\n",
    "allcountries['track_id'] = allcountries['track_id'].map(lambda x: x.split(':')[1].replace(\"{\", \"\").replace(\"}\", \"\").strip('\"'))\n",
    "allcountries.head()"
   ]
  },
  {
   "cell_type": "code",
   "execution_count": 27,
   "metadata": {},
   "outputs": [
    {
     "data": {
      "text/plain": [
       "(4313582, 6)"
      ]
     },
     "execution_count": 27,
     "metadata": {},
     "output_type": "execute_result"
    }
   ],
   "source": [
    "allcountries.shape"
   ]
  },
  {
   "cell_type": "code",
   "execution_count": 28,
   "metadata": {},
   "outputs": [
    {
     "data": {
      "text/plain": [
       "(False, False)"
      ]
     },
     "execution_count": 28,
     "metadata": {},
     "output_type": "execute_result"
    }
   ],
   "source": [
    "allcountries.shape[0] == allcountries['track_id'].nunique(), allcountries.shape[0] == allcountries['user_id'].nunique()"
   ]
  },
  {
   "cell_type": "code",
   "execution_count": 29,
   "metadata": {},
   "outputs": [
    {
     "data": {
      "text/plain": [
       "device_type          3\n",
       "length             870\n",
       "os                   8\n",
       "timestamp           96\n",
       "track_id         83426\n",
       "user_id        1787756\n",
       "dtype: int64"
      ]
     },
     "execution_count": 29,
     "metadata": {},
     "output_type": "execute_result"
    }
   ],
   "source": [
    "allcountries.nunique()"
   ]
  },
  {
   "cell_type": "markdown",
   "metadata": {},
   "source": [
    "### Streams by OS"
   ]
  },
  {
   "cell_type": "code",
   "execution_count": 30,
   "metadata": {},
   "outputs": [
    {
     "data": {
      "image/png": "[encoded data removed]",
      "text/plain": [
       "<Figure size 1440x720 with 1 Axes>"
      ]
     },
     "metadata": {},
     "output_type": "display_data"
    }
   ],
   "source": [
    "s = allcountries.groupby(['os', 'device_type']).size().reset_index().pivot(columns='device_type', index='os', values=0).fillna(0)\n",
    "s.sort_values(by = ['{\"device_type\":\"mobile\"'], ascending = False).plot(kind='bar', stacked=True, figsize = (20, 10))\n",
    "plt.title('Tracks by OS distribution')\n",
    "plt.xticks(rotation = 90)\n",
    "plt.show()"
   ]
  },
  {
   "cell_type": "markdown",
   "metadata": {},
   "source": [
    "### Users by OS"
   ]
  },
  {
   "cell_type": "code",
   "execution_count": 31,
   "metadata": {},
   "outputs": [
    {
     "data": {
      "image/png": "[encoded data removed]",
      "text/plain": [
       "<Figure size 1440x720 with 1 Axes>"
      ]
     },
     "metadata": {},
     "output_type": "display_data"
    }
   ],
   "source": [
    "plt.title('Users by OS distribution')\n",
    "allcountries.groupby('os')['user_id'].nunique().sort_values(ascending = False).plot(kind = 'bar', figsize  = (20, 10))\n",
    "plt.xticks(rotation = 90)\n",
    "plt.show()"
   ]
  },
  {
   "cell_type": "markdown",
   "metadata": {},
   "source": [
    "### Tracks by OS"
   ]
  },
  {
   "cell_type": "code",
   "execution_count": 32,
   "metadata": {},
   "outputs": [
    {
     "data": {
      "image/png": "[encoded data removed]",
      "text/plain": [
       "<Figure size 1440x720 with 1 Axes>"
      ]
     },
     "metadata": {},
     "output_type": "display_data"
    }
   ],
   "source": [
    "plt.title('Tracks by OS distribution')\n",
    "allcountries.groupby('os')['track_id'].nunique().sort_values(ascending = False).plot(kind = 'bar', figsize  = (20, 10))\n",
    "plt.xticks(rotation = 90)\n",
    "plt.show()"
   ]
  },
  {
   "cell_type": "markdown",
   "metadata": {},
   "source": [
    "### Distribution of streams per user"
   ]
  },
  {
   "cell_type": "code",
   "execution_count": 33,
   "metadata": {},
   "outputs": [
    {
     "name": "stdout",
     "output_type": "stream",
     "text": [
      "Median value: device_type\n",
      "{\"device_type\":\"desktop\"   160,566.50\n",
      "{\"device_type\":\"mobile\"          0.50\n",
      "{\"device_type\":\"tablet\"          0.00\n",
      "dtype: float64\n"
     ]
    },
    {
     "data": {
      "image/png": "[encoded data removed]",
      "text/plain": [
       "<Figure size 432x288 with 1 Axes>"
      ]
     },
     "metadata": {},
     "output_type": "display_data"
    }
   ],
   "source": [
    "plt.title('Distribution of number of streams per user')\n",
    "user_track_count = allcountries.groupby('user_id')['track_id'].count()\n",
    "print(\"Median value: %s\" % s.median())\n",
    "ax = sns.boxplot(x=user_track_count)\n",
    "ax.set_xlim(0, 5)\n",
    "plt.xlabel('number of streams')\n",
    "plt.show()"
   ]
  },
  {
   "cell_type": "markdown",
   "metadata": {},
   "source": [
    "#### Check if we have some suspicious outliers (extreme number of streams)"
   ]
  },
  {
   "cell_type": "code",
   "execution_count": 34,
   "metadata": {},
   "outputs": [
    {
     "data": {
      "text/plain": [
       "count   1,787,756.00\n",
       "mean            2.41\n",
       "std            13.47\n",
       "min             1.00\n",
       "1%              1.00\n",
       "10%             1.00\n",
       "20%             1.00\n",
       "30%             1.00\n",
       "40%             1.00\n",
       "50%             1.00\n",
       "60%             1.00\n",
       "70%             2.00\n",
       "80%             2.00\n",
       "90%             4.00\n",
       "99%            16.00\n",
       "99.9%          86.00\n",
       "max         3,310.00\n",
       "Name: track_id, dtype: float64"
      ]
     },
     "execution_count": 34,
     "metadata": {},
     "output_type": "execute_result"
    }
   ],
   "source": [
    "user_track_count.describe([.01,.1,.2,.3,.4,.5,.6,.7,.8,.9,.99, .999])"
   ]
  },
  {
   "cell_type": "markdown",
   "metadata": {},
   "source": [
    "#### Check how many users with streams more than 100"
   ]
  },
  {
   "cell_type": "code",
   "execution_count": 35,
   "metadata": {},
   "outputs": [
    {
     "name": "stdout",
     "output_type": "stream",
     "text": [
      "There are only 1563 users with number of streams more then 100\n"
     ]
    }
   ],
   "source": [
    "print(\"There are only %s users with number of streams more then 100\" % user_track_count[user_track_count > 100].shape[0])"
   ]
  },
  {
   "cell_type": "markdown",
   "metadata": {},
   "source": [
    "#### Save statistics for further analysis"
   ]
  },
  {
   "cell_type": "markdown",
   "metadata": {},
   "source": [
    "### Distribution of stream length"
   ]
  },
  {
   "cell_type": "code",
   "execution_count": 36,
   "metadata": {},
   "outputs": [],
   "source": [
    "allcountries['length'] = allcountries['length'].map(lambda x: clean_text(x , 'numbers')).astype(int)"
   ]
  },
  {
   "cell_type": "code",
   "execution_count": 37,
   "metadata": {},
   "outputs": [
    {
     "name": "stdout",
     "output_type": "stream",
     "text": [
      "Median value: 172.0\n"
     ]
    },
    {
     "data": {
      "image/png": "[encoded data removed]",
      "text/plain": [
       "<Figure size 432x288 with 1 Axes>"
      ]
     },
     "metadata": {},
     "output_type": "display_data"
    }
   ],
   "source": [
    "plt.title('Distribution of stream length')\n",
    "print(\"Median value: %s\" % allcountries['length'].median())\n",
    "ax = sns.boxplot(x=allcountries['length'])\n",
    "# ax.set_xlim(0, 10)\n",
    "plt.show()"
   ]
  },
  {
   "cell_type": "markdown",
   "metadata": {},
   "source": [
    "#### Check if we have some suspicious outliers (extreme length of streams)"
   ]
  },
  {
   "cell_type": "code",
   "execution_count": 38,
   "metadata": {},
   "outputs": [
    {
     "data": {
      "text/html": [
       "<div>\n",
       "<style scoped>\n",
       "    .dataframe tbody tr th:only-of-type {\n",
       "        vertical-align: middle;\n",
       "    }\n",
       "\n",
       "    .dataframe tbody tr th {\n",
       "        vertical-align: top;\n",
       "    }\n",
       "\n",
       "    .dataframe thead th {\n",
       "        text-align: right;\n",
       "    }\n",
       "</style>\n",
       "<table border=\"1\" class=\"dataframe\">\n",
       "  <thead>\n",
       "    <tr style=\"text-align: right;\">\n",
       "      <th></th>\n",
       "      <th>length</th>\n",
       "    </tr>\n",
       "  </thead>\n",
       "  <tbody>\n",
       "    <tr>\n",
       "      <th>count</th>\n",
       "      <td>4,313,582.00</td>\n",
       "    </tr>\n",
       "    <tr>\n",
       "      <th>mean</th>\n",
       "      <td>172.80</td>\n",
       "    </tr>\n",
       "    <tr>\n",
       "      <th>std</th>\n",
       "      <td>88.65</td>\n",
       "    </tr>\n",
       "    <tr>\n",
       "      <th>min</th>\n",
       "      <td>30.00</td>\n",
       "    </tr>\n",
       "    <tr>\n",
       "      <th>25%</th>\n",
       "      <td>116.00</td>\n",
       "    </tr>\n",
       "    <tr>\n",
       "      <th>50%</th>\n",
       "      <td>172.00</td>\n",
       "    </tr>\n",
       "    <tr>\n",
       "      <th>75%</th>\n",
       "      <td>216.00</td>\n",
       "    </tr>\n",
       "    <tr>\n",
       "      <th>max</th>\n",
       "      <td>900.00</td>\n",
       "    </tr>\n",
       "  </tbody>\n",
       "</table>\n",
       "</div>"
      ],
      "text/plain": [
       "            length\n",
       "count 4,313,582.00\n",
       "mean        172.80\n",
       "std          88.65\n",
       "min          30.00\n",
       "25%         116.00\n",
       "50%         172.00\n",
       "75%         216.00\n",
       "max         900.00"
      ]
     },
     "execution_count": 38,
     "metadata": {},
     "output_type": "execute_result"
    }
   ],
   "source": [
    "allcountries.describe()"
   ]
  },
  {
   "cell_type": "markdown",
   "metadata": {},
   "source": [
    "### DIstribution of number of devices per user"
   ]
  },
  {
   "cell_type": "code",
   "execution_count": 39,
   "metadata": {},
   "outputs": [
    {
     "name": "stdout",
     "output_type": "stream",
     "text": [
      "Median value: 1.0\n"
     ]
    },
    {
     "data": {
      "image/png": "[encoded data removed]",
      "text/plain": [
       "<Figure size 432x288 with 1 Axes>"
      ]
     },
     "metadata": {},
     "output_type": "display_data"
    }
   ],
   "source": [
    "plt.title('Distribution of number of devices per user')\n",
    "s = allcountries.groupby('user_id')['device_type'].nunique()\n",
    "print(\"Median value: %s\" % s.median())\n",
    "ax = sns.boxplot(x=s)\n",
    "ax.set_xlim(0, 5)\n",
    "plt.show()"
   ]
  },
  {
   "cell_type": "markdown",
   "metadata": {},
   "source": [
    "### Distribution of track length for different OS"
   ]
  },
  {
   "cell_type": "code",
   "execution_count": 40,
   "metadata": {
    "scrolled": false
   },
   "outputs": [
    {
     "data": {
      "image/png": "[encoded data removed]",
      "text/plain": [
       "<Figure size 864x432 with 1 Axes>"
      ]
     },
     "metadata": {},
     "output_type": "display_data"
    }
   ],
   "source": [
    "x_name = 'os'\n",
    "y_name = 'length'\n",
    "col_order = allcountries.groupby(x_name)[y_name].mean().sort_values(ascending = False).index.tolist()\n",
    "plt.figure(figsize=(12,6))\n",
    "ax = sns.boxplot(x=x_name, y=y_name, data=allcountries, order=col_order)\n",
    "plt.xlabel(x_name, fontsize=12)\n",
    "plt.ylabel(y_name, fontsize=12)\n",
    "plt.title(\"Distribution of %s variable with %s\" % (y_name, x_name), fontsize=15)\n",
    "ax.set_ylim(0, 500)\n",
    "plt.show()"
   ]
  },
  {
   "cell_type": "markdown",
   "metadata": {},
   "source": [
    "### Distribution of track length for different device types"
   ]
  },
  {
   "cell_type": "code",
   "execution_count": 41,
   "metadata": {},
   "outputs": [
    {
     "data": {
      "image/png": "[encoded data removed]",
      "text/plain": [
       "<Figure size 864x432 with 1 Axes>"
      ]
     },
     "metadata": {},
     "output_type": "display_data"
    }
   ],
   "source": [
    "x_name = 'device_type'\n",
    "y_name = 'length'\n",
    "col_order = allcountries.groupby(x_name)[y_name].mean().sort_values(ascending = False).index.tolist()\n",
    "plt.figure(figsize=(12,6))\n",
    "ax = sns.boxplot(x=x_name, y=y_name, data=allcountries, order=col_order)\n",
    "plt.xlabel(x_name, fontsize=12)\n",
    "plt.ylabel(y_name, fontsize=12)\n",
    "plt.title(\"Distribution of %s variable with %s\" % (y_name, x_name), fontsize=15)\n",
    "ax.set_ylim(0, 500)\n",
    "plt.show()"
   ]
  },
  {
   "cell_type": "markdown",
   "metadata": {},
   "source": [
    "### Distribution of gap between streams for users"
   ]
  },
  {
   "cell_type": "code",
   "execution_count": 42,
   "metadata": {},
   "outputs": [],
   "source": [
    "allcountries = allcountries.sort_values(by = ['user_id', 'timestamp'])\n",
    "allcountries['timestamp'] = allcountries['timestamp'].map(lambda x: clean_text(x , 'numbers')).astype(float)\n",
    "allcountries['timestamp_previous'] = allcountries.groupby('user_id', sort = False)['timestamp'].shift(1)\n",
    "allcountries['gap'] = allcountries['timestamp'] - allcountries['timestamp_previous']\n",
    "\n",
    "# convert gaps tp days units\n",
    "allcountries['gap'] = allcountries['gap'] / (24*3600)"
   ]
  },
  {
   "cell_type": "code",
   "execution_count": 43,
   "metadata": {},
   "outputs": [
    {
     "data": {
      "text/plain": [
       "count   2,525,826.00\n",
       "mean           55.26\n",
       "std           120.64\n",
       "min             0.00\n",
       "25%             0.00\n",
       "50%            10.42\n",
       "75%            41.67\n",
       "max           989.58\n",
       "Name: gap, dtype: float64"
      ]
     },
     "execution_count": 43,
     "metadata": {},
     "output_type": "execute_result"
    }
   ],
   "source": [
    "allcountries[allcountries['gap'].notnull()]['gap'].describe()"
   ]
  },
  {
   "cell_type": "code",
   "execution_count": 44,
   "metadata": {},
   "outputs": [
    {
     "name": "stdout",
     "output_type": "stream",
     "text": [
      "Median value: 1 days\n"
     ]
    },
    {
     "data": {
      "image/png": "[encoded data removed]",
      "text/plain": [
       "<Figure size 432x288 with 1 Axes>"
      ]
     },
     "metadata": {},
     "output_type": "display_data"
    }
   ],
   "source": [
    "plt.title('Distribution of gaps between streams')\n",
    "user_gap_stat = allcountries[allcountries['gap'].notnull()]['gap']\n",
    "print(\"Median value: %s days\" % int(s.median()))\n",
    "ax = sns.boxplot(x=user_gap_stat)\n",
    "ax.set_xlim(0, 100)\n",
    "plt.show()"
   ]
  },
  {
   "cell_type": "code",
   "execution_count": 45,
   "metadata": {},
   "outputs": [
    {
     "data": {
      "text/plain": [
       "count   2,525,826.00\n",
       "mean           55.26\n",
       "std           120.64\n",
       "min             0.00\n",
       "1%              0.00\n",
       "10%             0.00\n",
       "20%             0.00\n",
       "30%             0.00\n",
       "40%             0.00\n",
       "50%            10.42\n",
       "60%            10.42\n",
       "70%            31.25\n",
       "80%            72.92\n",
       "90%           166.67\n",
       "99%           635.42\n",
       "99.9%         895.83\n",
       "max           989.58\n",
       "Name: gap, dtype: float64"
      ]
     },
     "execution_count": 45,
     "metadata": {},
     "output_type": "execute_result"
    }
   ],
   "source": [
    "user_gap_stat.describe([.01,.1,.2,.3,.4,.5,.6,.7,.8,.9,.99, .999])"
   ]
  },
  {
   "cell_type": "markdown",
   "metadata": {},
   "source": [
    "### Dependency between stream length and gap between streams"
   ]
  },
  {
   "cell_type": "code",
   "execution_count": 46,
   "metadata": {},
   "outputs": [
    {
     "data": {
      "image/png": "[encoded data removed]",
      "text/plain": [
       "<Figure size 432x432 with 3 Axes>"
      ]
     },
     "metadata": {},
     "output_type": "display_data"
    }
   ],
   "source": [
    "with sns.axes_style('white'):\n",
    "    sns.jointplot(\"length\", \"gap\", allcountries, kind='hex')"
   ]
  },
  {
   "cell_type": "markdown",
   "metadata": {},
   "source": [
    "### Dependency between stream length and number of streams"
   ]
  },
  {
   "cell_type": "code",
   "execution_count": 47,
   "metadata": {},
   "outputs": [
    {
     "data": {
      "image/png": "[encoded data removed]",
      "text/plain": [
       "<Figure size 432x432 with 3 Axes>"
      ]
     },
     "metadata": {},
     "output_type": "display_data"
    }
   ],
   "source": [
    "s  = allcountries.groupby('user_id')[\"length\", \"gap\"].agg({'length' : 'mean', 'gap' : 'count'}).reset_index()\n",
    "with sns.axes_style('white'):\n",
    "    sns.jointplot(\"length\", \"gap\", s, kind='hex')"
   ]
  },
  {
   "cell_type": "code",
   "execution_count": null,
   "metadata": {},
   "outputs": [],
   "source": []
  }
 ],
 "metadata": {
  "kernelspec": {
   "display_name": "Python 3",
   "language": "python",
   "name": "python3"
  },
  "language_info": {
   "codemirror_mode": {
    "name": "ipython",
    "version": 3
   },
   "file_extension": ".py",
   "mimetype": "text/x-python",
   "name": "python",
   "nbconvert_exporter": "python",
   "pygments_lexer": "ipython3",
   "version": "3.6.5"
  }
 },
 "nbformat": 4,
 "nbformat_minor": 2
}
